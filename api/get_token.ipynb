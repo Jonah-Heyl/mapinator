{
 "cells": [
  {
   "cell_type": "code",
   "execution_count": 1,
   "id": "08a537d9-9102-468d-b84d-2f6ca3190997",
   "metadata": {},
   "outputs": [
    {
     "ename": "TypeError",
     "evalue": "can only concatenate str (not \"NoneType\") to str",
     "output_type": "error",
     "traceback": [
      "\u001b[0;31m---------------------------------------------------------------------------\u001b[0m",
      "\u001b[0;31mTypeError\u001b[0m                                 Traceback (most recent call last)",
      "Input \u001b[0;32mIn [1]\u001b[0m, in \u001b[0;36m<cell line: 18>\u001b[0;34m()\u001b[0m\n\u001b[1;32m     10\u001b[0m token_server \u001b[38;5;241m=\u001b[39m \u001b[38;5;124m'\u001b[39m\u001b[38;5;124mhttps://support.econjobmarket.org/oauth2/token\u001b[39m\u001b[38;5;124m'\u001b[39m\n\u001b[1;32m     11\u001b[0m payload \u001b[38;5;241m=\u001b[39m {\n\u001b[1;32m     12\u001b[0m     \u001b[38;5;124m'\u001b[39m\u001b[38;5;124mclient_id\u001b[39m\u001b[38;5;124m'\u001b[39m : \u001b[38;5;124m'\u001b[39m\u001b[38;5;124msupport_token_server\u001b[39m\u001b[38;5;124m'\u001b[39m,\n\u001b[1;32m     13\u001b[0m     \u001b[38;5;124m'\u001b[39m\u001b[38;5;124mclient_secret\u001b[39m\u001b[38;5;124m'\u001b[39m : \u001b[38;5;124m'\u001b[39m\u001b[38;5;124m4support_server2work\u001b[39m\u001b[38;5;124m'\u001b[39m,\n\u001b[0;32m   (...)\u001b[0m\n\u001b[1;32m     16\u001b[0m     \u001b[38;5;124m'\u001b[39m\u001b[38;5;124mpassword\u001b[39m\u001b[38;5;124m'\u001b[39m : os\u001b[38;5;241m.\u001b[39mgetenv(\u001b[38;5;124m\"\u001b[39m\u001b[38;5;124mpassword\u001b[39m\u001b[38;5;124m\"\u001b[39m)\n\u001b[1;32m     17\u001b[0m }\n\u001b[0;32m---> 18\u001b[0m data \u001b[38;5;241m=\u001b[39m \u001b[38;5;124;43m'\u001b[39;49m\u001b[38;5;124;43mclient_id=support_token_server&client_secret=4support_token2work&grant_type=password&username=\u001b[39;49m\u001b[38;5;124;43m'\u001b[39;49m\u001b[38;5;241;43m+\u001b[39;49m\u001b[43mos\u001b[49m\u001b[38;5;241;43m.\u001b[39;49m\u001b[43mgetenv\u001b[49m\u001b[43m(\u001b[49m\u001b[38;5;124;43m\"\u001b[39;49m\u001b[38;5;124;43musername\u001b[39;49m\u001b[38;5;124;43m\"\u001b[39;49m\u001b[43m)\u001b[49m\u001b[38;5;241m+\u001b[39m\u001b[38;5;124m'\u001b[39m\u001b[38;5;124m&password=\u001b[39m\u001b[38;5;124m'\u001b[39m\u001b[38;5;241m+\u001b[39mos\u001b[38;5;241m.\u001b[39mgetenv(\u001b[38;5;124m\"\u001b[39m\u001b[38;5;124mpassword\u001b[39m\u001b[38;5;124m\"\u001b[39m)\n",
      "\u001b[0;31mTypeError\u001b[0m: can only concatenate str (not \"NoneType\") to str"
     ]
    }
   ],
   "source": [
    "import os\n",
    "import requests\n",
    "from os import environ as env\n",
    "import dotenv\n",
    "from dotenv import load_dotenv\n",
    "load_dotenv()\n",
    "req_headers = {\n",
    "        'Content-Type': 'application/x-www-form-urlencoded',\n",
    "    }\n",
    "token_server = 'https://support.econjobmarket.org/oauth2/token'\n",
    "payload = {\n",
    "    'client_id' : 'support_token_server',\n",
    "    'client_secret' : '4support_server2work',\n",
    "    'grant_type' : 'password',\n",
    "    'username' : os.getenv(\"username\"),\n",
    "    'password' : os.getenv(\"password\")\n",
    "}\n",
    "data = 'client_id=support_token_server&client_secret=4support_token2work&grant_type=password&username='+os.getenv(\"username\")+'&password='+os.getenv(\"password\")\n",
    "#response = requests.post('https://support.econjobmarket.org/oauth2/token', headers=req_headers, data=payload)\n",
    "#ref_token=response.json()['refresh_token']\n",
    "#print(response.text)\n",
    "\n"
   ]
  },
  {
   "cell_type": "code",
   "execution_count": null,
   "id": "efac3d86-71c6-40b1-a46f-03f193a6f00b",
   "metadata": {},
   "outputs": [],
   "source": [
    "print(response.json()[\"access_token\"])"
   ]
  },
  {
   "cell_type": "code",
   "execution_count": null,
   "id": "35ae9024-699c-45a9-9280-24da7e3bbd3c",
   "metadata": {},
   "outputs": [],
   "source": [
    "dotenv_file = dotenv.find_dotenv()\n",
    "dotenv.load_dotenv(dotenv_file)\n",
    "\n",
    "print(os.environ[\"access_token\"])  # outputs \"value\"\n",
    "os.environ[\"access_token\"] = response.json()[\"access_token\"]\n",
    "print(os.environ['access_token'])  # outputs 'newvalue'\n",
    "os.environ[\"refresh_token\"] = response.json()[\"refresh_token\"]\n",
    "\n",
    "# Write changes to .env file.\n",
    "dotenv.set_key(dotenv_file, \"access_token\", os.environ[\"access_token\"])\n",
    "dotenv.set_key(dotenv_file, \"refresh_token\", os.environ[\"refresh_token\"])\n"
   ]
  }
 ],
 "metadata": {
  "kernelspec": {
   "display_name": "Python 3 (ipykernel)",
   "language": "python",
   "name": "python3"
  },
  "language_info": {
   "codemirror_mode": {
    "name": "ipython",
    "version": 3
   },
   "file_extension": ".py",
   "mimetype": "text/x-python",
   "name": "python",
   "nbconvert_exporter": "python",
   "pygments_lexer": "ipython3",
   "version": "3.9.12"
  }
 },
 "nbformat": 4,
 "nbformat_minor": 5
}
