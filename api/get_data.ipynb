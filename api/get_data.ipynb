{
 "cells": [
  {
   "cell_type": "code",
   "execution_count": 1,
   "id": "7544f8f3-ba2b-4fb9-aa8d-76ad2313d4dc",
   "metadata": {},
   "outputs": [
    {
     "name": "stderr",
     "output_type": "stream",
     "text": [
      "\u001b[32m\u001b[1m    Updating\u001b[22m\u001b[39m registry at `~/.julia/registries/General.toml`\n",
      "\u001b[32m\u001b[1m   Resolving\u001b[22m\u001b[39m package versions...\n",
      "\u001b[32m\u001b[1m  No Changes\u001b[22m\u001b[39m to `~/.julia/environments/v1.7/Project.toml`\n",
      "\u001b[32m\u001b[1m  No Changes\u001b[22m\u001b[39m to `~/.julia/environments/v1.7/Manifest.toml`\n"
     ]
    },
    {
     "data": {
      "text/plain": [
       "6-element Vector{Int64}:\n",
       " 1\n",
       " 2\n",
       " 3\n",
       " 4\n",
       " 5\n",
       " 6"
      ]
     },
     "execution_count": 1,
     "metadata": {},
     "output_type": "execute_result"
    }
   ],
   "source": [
    "using Pkg\n",
    "Pkg.add(\"JSON\")\n",
    "\n",
    "import DotEnv, HTTP, URIs,JSON\n",
    "push!([1,2,3],4,5,6)\n"
   ]
  },
  {
   "cell_type": "code",
   "execution_count": 2,
   "id": "708e19d3-9a9c-4f8f-9d4c-ea153087ef0a",
   "metadata": {},
   "outputs": [
    {
     "data": {
      "text/plain": [
       "get_data (generic function with 1 method)"
      ]
     },
     "execution_count": 2,
     "metadata": {},
     "output_type": "execute_result"
    }
   ],
   "source": [
    "function get_data(property)\n",
    "    cfg = DotEnv.config()\n",
    "    token_url = \"https://support.econjobmarket.org/oauth2/token\"\n",
    "    api_url = \"https://support.econjobmarket.org/api/\"\n",
    "    new_token_data = Dict(\n",
    "        \"client_id\" => \"support_token_server\",\n",
    "        \"client_secret\" => \"4support_server2work\",\n",
    "        \"grant_type\" => \"password\",\n",
    "        #\"username\" => cfg[\"username\"],\n",
    "        #\"password\" => cfg[\"password\"],\n",
    "    )\n",
    "    new_token_headers = Dict(\n",
    "        \"Content-Type\" => \"application/x-www-form-urlencoded\",\n",
    "    )\n",
    "    refresh_token_data = [\n",
    "        \"client_id\" => \"support_token_server\",\n",
    "        \"client_secret\" => \"4support_server2work\",\n",
    "        \"grant_type\" => \"refresh_token\",\n",
    "        #\"refresh_token\" => cfg[\"refresh_token\"],\n",
    "    ]\n",
    "    if cfg == nothing\n",
    "        throw(DomainError(\"config file\",\"make sure .env exists and has four fields, username,password,access_token,refresh_token\"))\n",
    "    elseif cfg[\"access_token\"] ==  \"\"\n",
    "        new_token_data[\"username\"]  = cfg[\"username\"]\n",
    "        new_token_data[\"password\"] = cfg[\"password\"]\n",
    "        #return new_token_data, new_token_headers, new_token_data\n",
    "        response = HTTP.request(\"POST\", token_url, new_token_headers, new_token_data; redirect_method=\"POST\", status_exception=false)\n",
    "        #env = open(\".env\", w)\n",
    "        #write(env,\"username=\"+cfg[\"username\"]+\"\\n\"+\"password=\"+cfg[\"password\"]+\"\\n\"+\"access_token=\"+response.access_token\n",
    "        return String(response.body)\n",
    "            \n",
    "    else\n",
    "        return new_token_data\n",
    "    end\n",
    "end"
   ]
  },
  {
   "cell_type": "code",
   "execution_count": 3,
   "id": "984c51c1-fc22-4bbd-ba00-4b262cfc031b",
   "metadata": {},
   "outputs": [
    {
     "name": "stdout",
     "output_type": "stream",
     "text": [
      "Dict(\"client_id\" => \"support_token_server\", \"client_secret\" => \"4support_server2work\", \"grant_type\" => \"password\")\n"
     ]
    }
   ],
   "source": [
    "\n",
    "   println( get_data(\"slice\"))\n",
    "    \n"
   ]
  }
 ],
 "metadata": {
  "kernelspec": {
   "display_name": "Julia 1.7.3",
   "language": "julia",
   "name": "julia-1.7"
  },
  "language_info": {
   "file_extension": ".jl",
   "mimetype": "application/julia",
   "name": "julia",
   "version": "1.7.3"
  }
 },
 "nbformat": 4,
 "nbformat_minor": 5
}
