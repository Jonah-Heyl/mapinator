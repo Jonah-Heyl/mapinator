{
 "cells": [
  {
   "cell_type": "code",
   "execution_count": 1,
   "id": "7544f8f3-ba2b-4fb9-aa8d-76ad2313d4dc",
   "metadata": {},
   "outputs": [],
   "source": [
    "#using Pkg\n",
    "#Pkg.add(\"JSON\")\n",
    "#Pkg.add(\"DotEnv\")\n",
    "#Pkg.add(\"HTTP\")\n",
    "#Pkg.add(\"JSON\")\n",
    "#Pkg.add(\"URIs\")\n",
    "#Pkg.add(\"ConfigEnv\")\n",
    "\n",
    "using DotEnv, HTTP, URIs,JSON\n"
   ]
  },
  {
   "cell_type": "code",
   "execution_count": 10,
   "id": "708e19d3-9a9c-4f8f-9d4c-ea153087ef0a",
   "metadata": {},
   "outputs": [
    {
     "data": {
      "text/plain": [
       "get_data"
      ]
     },
     "execution_count": 10,
     "metadata": {},
     "output_type": "execute_result"
    }
   ],
   "source": [
    "\"\"\"\n",
    "    get_data(property)\n",
    "\n",
    "This function requests data from an api using an access_token.  The variable property is a string.  Each property\n",
    "gives access to a different set of data.  The set of admissable properties is described in accompanying documentation.\n",
    "\n",
    "Since access tokens\n",
    "are fetched in many different ways, this function does not fetch tokens.  Instead it relies\n",
    "on an outside program fetching the token and saving it in a file called `.env`.\n",
    "\n",
    "The `.env` file has to contain at least two fields which look like\n",
    "```\n",
    "api_url=https://yoursite.ca/api\n",
    "access_token=yourtoken\n",
    "```\n",
    "Note that there is no trailing slash on the api url.  The program appends the variable property to the end of the api_url when fetching.\n",
    "\n",
    "The program should return either an array of json strings, or a single json string with an error message in it. \n",
    "\n",
    "\"\"\"\n",
    "function get_data(property) \n",
    "    cfg = DotEnv.config()\n",
    "    #a bogus token which works for public request\n",
    "    default_token=\"eyJ0eXAiOiJKV1QiLCJhbGciOiJSUzI1NiJ9.eyJpZCI6IjhjNzRhMjY0YjE0Yj\"\n",
    "    if isempty(cfg)\n",
    "        response = Dict(\n",
    "            \"error\" => \"configuration\",\n",
    "            \"error_description\" => \".env files doesn't exist or is empty\"\n",
    "            )\n",
    "        return JSON.json(response)\n",
    "    elseif cfg[\"api_url\"] == \"\"\n",
    "        response = Dict(\n",
    "            \"error\" => \"api_url\",\n",
    "            \"error_description\" => \"there is no api_url, can't return output\"\n",
    "            )\n",
    "        return JSON.json(response)\n",
    "    elseif cfg[\"access_token\"] == \"\"\n",
    "        #assuming this is a public request\n",
    "        cfg[\"access_token\"] = default_token\n",
    "    end\n",
    "                \n",
    "    api_url = string(cfg[\"api_url\"],\"/\",property)\n",
    "    new_headers = Dict(\n",
    "        \"Accept\" => \"application/json\",\n",
    "        \"Authorization\" => string(\"Bearer \",cfg[\"access_token\"]),\n",
    "    )\n",
    "    response = HTTP.request(\"GET\", api_url, new_headers)\n",
    "        \n",
    "    r = String(response.body)\n",
    "    check = JSON.parse(r)\n",
    "    if \"error\" in keys(check)\n",
    "        println(\"detected error\")\n",
    "    end\n",
    "    return r\n",
    "end"
   ]
  },
  {
   "cell_type": "code",
   "execution_count": 11,
   "id": "984c51c1-fc22-4bbd-ba00-4b262cfc031b",
   "metadata": {},
   "outputs": [
    {
     "name": "stdout",
     "output_type": "stream",
     "text": [
      "detected error\n",
      "{\"error\":\"oauth2 error\",\"error_description\":\"Expired token\"}\n"
     ]
    }
   ],
   "source": [
    "\n",
    "   println( get_data(\"gendered_data\"))\n",
    "    \n"
   ]
  },
  {
   "cell_type": "code",
   "execution_count": null,
   "id": "0edad9ad-fb26-47df-8a28-c571ab94f844",
   "metadata": {},
   "outputs": [],
   "source": []
  }
 ],
 "metadata": {
  "kernelspec": {
   "display_name": "Julia 1.7.3",
   "language": "julia",
   "name": "julia-1.7"
  },
  "language_info": {
   "file_extension": ".jl",
   "mimetype": "application/julia",
   "name": "julia",
   "version": "1.7.3"
  }
 },
 "nbformat": 4,
 "nbformat_minor": 5
}
